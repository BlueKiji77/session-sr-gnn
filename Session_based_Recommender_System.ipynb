{
  "cells": [
    {
      "cell_type": "markdown",
      "source": [
        "# 👋 Session-based Recommend Using SR-GNN\n",
        "\n",
        "I referred to following code bases while writing the code below.\n",
        "\n",
        "- https://colab.research.google.com/drive/1X4uOWv_xkefDu_h-pbJg-fEkMfR7NGz9?usp=sharing\n",
        "- https://github.com/userbehavioranalysis/SR-GNN_PyTorch-Geometric\n",
        "- https://rzykov.github.io/notebooks/RetailRocketDatasetNextClick.html\n"
      ],
      "metadata": {
        "id": "Nz4R5b30g5tT"
      }
    },
    {
      "cell_type": "code",
      "source": [
        "from google.colab import drive\n",
        "drive.mount('/content/drive')"
      ],
      "metadata": {
        "colab": {
          "base_uri": "https://localhost:8080/"
        },
        "id": "uoRe3NFS5XC7",
        "outputId": "77ed4050-d920-4d48-b905-1c7bdea7c626"
      },
      "execution_count": 1,
      "outputs": [
        {
          "output_type": "stream",
          "name": "stdout",
          "text": [
            "Drive already mounted at /content/drive; to attempt to forcibly remount, call drive.mount(\"/content/drive\", force_remount=True).\n"
          ]
        }
      ]
    },
    {
      "cell_type": "markdown",
      "source": [
        "#### Instructions on getting the dataset."
      ],
      "metadata": {
        "id": "X4IFScO1YcMM"
      }
    },
    {
      "cell_type": "markdown",
      "source": [
        "**Please follow the steps below to download and use kaggle data within Google Colab:\n",
        "\n",
        "1. Go to your account, Scroll to API section and Click Expire API Token to remove previous tokens\n",
        "\n",
        "2. Click on Create New API Token - It will download kaggle.json file on your machine.\n",
        "\n",
        "3. Run the following cells.**"
      ],
      "metadata": {
        "id": "qXqW7LG4x33G"
      }
    },
    {
      "cell_type": "code",
      "source": [
        "# Uncomment if first time running\n",
        "! pip install kaggle\n",
        "from google.colab import files\n",
        "files.upload()"
      ],
      "metadata": {
        "colab": {
          "base_uri": "https://localhost:8080/",
          "height": 298
        },
        "id": "uRbXmjhl5tFR",
        "outputId": "a9d2e755-e600-4304-e422-7861aa4e60be"
      },
      "execution_count": 12,
      "outputs": [
        {
          "output_type": "stream",
          "name": "stdout",
          "text": [
            "Looking in indexes: https://pypi.org/simple, https://us-python.pkg.dev/colab-wheels/public/simple/\n",
            "Requirement already satisfied: kaggle in /usr/local/lib/python3.8/dist-packages (1.5.12)\n",
            "Requirement already satisfied: python-slugify in /usr/local/lib/python3.8/dist-packages (from kaggle) (7.0.0)\n",
            "Requirement already satisfied: certifi in /usr/local/lib/python3.8/dist-packages (from kaggle) (2022.12.7)\n",
            "Requirement already satisfied: requests in /usr/local/lib/python3.8/dist-packages (from kaggle) (2.23.0)\n",
            "Requirement already satisfied: python-dateutil in /usr/local/lib/python3.8/dist-packages (from kaggle) (2.8.2)\n",
            "Requirement already satisfied: six>=1.10 in /usr/local/lib/python3.8/dist-packages (from kaggle) (1.15.0)\n",
            "Requirement already satisfied: urllib3 in /usr/local/lib/python3.8/dist-packages (from kaggle) (1.24.3)\n",
            "Requirement already satisfied: tqdm in /usr/local/lib/python3.8/dist-packages (from kaggle) (4.64.1)\n",
            "Requirement already satisfied: text-unidecode>=1.3 in /usr/local/lib/python3.8/dist-packages (from python-slugify->kaggle) (1.3)\n",
            "Requirement already satisfied: chardet<4,>=3.0.2 in /usr/local/lib/python3.8/dist-packages (from requests->kaggle) (3.0.4)\n",
            "Requirement already satisfied: idna<3,>=2.5 in /usr/local/lib/python3.8/dist-packages (from requests->kaggle) (2.10)\n"
          ]
        },
        {
          "output_type": "display_data",
          "data": {
            "text/plain": [
              "<IPython.core.display.HTML object>"
            ],
            "text/html": [
              "\n",
              "     <input type=\"file\" id=\"files-d08d45e5-eb5d-4bb4-b7ec-70468bb0bedc\" name=\"files[]\" multiple disabled\n",
              "        style=\"border:none\" />\n",
              "     <output id=\"result-d08d45e5-eb5d-4bb4-b7ec-70468bb0bedc\">\n",
              "      Upload widget is only available when the cell has been executed in the\n",
              "      current browser session. Please rerun this cell to enable.\n",
              "      </output>\n",
              "      <script>// Copyright 2017 Google LLC\n",
              "//\n",
              "// Licensed under the Apache License, Version 2.0 (the \"License\");\n",
              "// you may not use this file except in compliance with the License.\n",
              "// You may obtain a copy of the License at\n",
              "//\n",
              "//      http://www.apache.org/licenses/LICENSE-2.0\n",
              "//\n",
              "// Unless required by applicable law or agreed to in writing, software\n",
              "// distributed under the License is distributed on an \"AS IS\" BASIS,\n",
              "// WITHOUT WARRANTIES OR CONDITIONS OF ANY KIND, either express or implied.\n",
              "// See the License for the specific language governing permissions and\n",
              "// limitations under the License.\n",
              "\n",
              "/**\n",
              " * @fileoverview Helpers for google.colab Python module.\n",
              " */\n",
              "(function(scope) {\n",
              "function span(text, styleAttributes = {}) {\n",
              "  const element = document.createElement('span');\n",
              "  element.textContent = text;\n",
              "  for (const key of Object.keys(styleAttributes)) {\n",
              "    element.style[key] = styleAttributes[key];\n",
              "  }\n",
              "  return element;\n",
              "}\n",
              "\n",
              "// Max number of bytes which will be uploaded at a time.\n",
              "const MAX_PAYLOAD_SIZE = 100 * 1024;\n",
              "\n",
              "function _uploadFiles(inputId, outputId) {\n",
              "  const steps = uploadFilesStep(inputId, outputId);\n",
              "  const outputElement = document.getElementById(outputId);\n",
              "  // Cache steps on the outputElement to make it available for the next call\n",
              "  // to uploadFilesContinue from Python.\n",
              "  outputElement.steps = steps;\n",
              "\n",
              "  return _uploadFilesContinue(outputId);\n",
              "}\n",
              "\n",
              "// This is roughly an async generator (not supported in the browser yet),\n",
              "// where there are multiple asynchronous steps and the Python side is going\n",
              "// to poll for completion of each step.\n",
              "// This uses a Promise to block the python side on completion of each step,\n",
              "// then passes the result of the previous step as the input to the next step.\n",
              "function _uploadFilesContinue(outputId) {\n",
              "  const outputElement = document.getElementById(outputId);\n",
              "  const steps = outputElement.steps;\n",
              "\n",
              "  const next = steps.next(outputElement.lastPromiseValue);\n",
              "  return Promise.resolve(next.value.promise).then((value) => {\n",
              "    // Cache the last promise value to make it available to the next\n",
              "    // step of the generator.\n",
              "    outputElement.lastPromiseValue = value;\n",
              "    return next.value.response;\n",
              "  });\n",
              "}\n",
              "\n",
              "/**\n",
              " * Generator function which is called between each async step of the upload\n",
              " * process.\n",
              " * @param {string} inputId Element ID of the input file picker element.\n",
              " * @param {string} outputId Element ID of the output display.\n",
              " * @return {!Iterable<!Object>} Iterable of next steps.\n",
              " */\n",
              "function* uploadFilesStep(inputId, outputId) {\n",
              "  const inputElement = document.getElementById(inputId);\n",
              "  inputElement.disabled = false;\n",
              "\n",
              "  const outputElement = document.getElementById(outputId);\n",
              "  outputElement.innerHTML = '';\n",
              "\n",
              "  const pickedPromise = new Promise((resolve) => {\n",
              "    inputElement.addEventListener('change', (e) => {\n",
              "      resolve(e.target.files);\n",
              "    });\n",
              "  });\n",
              "\n",
              "  const cancel = document.createElement('button');\n",
              "  inputElement.parentElement.appendChild(cancel);\n",
              "  cancel.textContent = 'Cancel upload';\n",
              "  const cancelPromise = new Promise((resolve) => {\n",
              "    cancel.onclick = () => {\n",
              "      resolve(null);\n",
              "    };\n",
              "  });\n",
              "\n",
              "  // Wait for the user to pick the files.\n",
              "  const files = yield {\n",
              "    promise: Promise.race([pickedPromise, cancelPromise]),\n",
              "    response: {\n",
              "      action: 'starting',\n",
              "    }\n",
              "  };\n",
              "\n",
              "  cancel.remove();\n",
              "\n",
              "  // Disable the input element since further picks are not allowed.\n",
              "  inputElement.disabled = true;\n",
              "\n",
              "  if (!files) {\n",
              "    return {\n",
              "      response: {\n",
              "        action: 'complete',\n",
              "      }\n",
              "    };\n",
              "  }\n",
              "\n",
              "  for (const file of files) {\n",
              "    const li = document.createElement('li');\n",
              "    li.append(span(file.name, {fontWeight: 'bold'}));\n",
              "    li.append(span(\n",
              "        `(${file.type || 'n/a'}) - ${file.size} bytes, ` +\n",
              "        `last modified: ${\n",
              "            file.lastModifiedDate ? file.lastModifiedDate.toLocaleDateString() :\n",
              "                                    'n/a'} - `));\n",
              "    const percent = span('0% done');\n",
              "    li.appendChild(percent);\n",
              "\n",
              "    outputElement.appendChild(li);\n",
              "\n",
              "    const fileDataPromise = new Promise((resolve) => {\n",
              "      const reader = new FileReader();\n",
              "      reader.onload = (e) => {\n",
              "        resolve(e.target.result);\n",
              "      };\n",
              "      reader.readAsArrayBuffer(file);\n",
              "    });\n",
              "    // Wait for the data to be ready.\n",
              "    let fileData = yield {\n",
              "      promise: fileDataPromise,\n",
              "      response: {\n",
              "        action: 'continue',\n",
              "      }\n",
              "    };\n",
              "\n",
              "    // Use a chunked sending to avoid message size limits. See b/62115660.\n",
              "    let position = 0;\n",
              "    do {\n",
              "      const length = Math.min(fileData.byteLength - position, MAX_PAYLOAD_SIZE);\n",
              "      const chunk = new Uint8Array(fileData, position, length);\n",
              "      position += length;\n",
              "\n",
              "      const base64 = btoa(String.fromCharCode.apply(null, chunk));\n",
              "      yield {\n",
              "        response: {\n",
              "          action: 'append',\n",
              "          file: file.name,\n",
              "          data: base64,\n",
              "        },\n",
              "      };\n",
              "\n",
              "      let percentDone = fileData.byteLength === 0 ?\n",
              "          100 :\n",
              "          Math.round((position / fileData.byteLength) * 100);\n",
              "      percent.textContent = `${percentDone}% done`;\n",
              "\n",
              "    } while (position < fileData.byteLength);\n",
              "  }\n",
              "\n",
              "  // All done.\n",
              "  yield {\n",
              "    response: {\n",
              "      action: 'complete',\n",
              "    }\n",
              "  };\n",
              "}\n",
              "\n",
              "scope.google = scope.google || {};\n",
              "scope.google.colab = scope.google.colab || {};\n",
              "scope.google.colab._files = {\n",
              "  _uploadFiles,\n",
              "  _uploadFilesContinue,\n",
              "};\n",
              "})(self);\n",
              "</script> "
            ]
          },
          "metadata": {}
        },
        {
          "output_type": "stream",
          "name": "stdout",
          "text": [
            "Saving kaggle.json to kaggle.json\n"
          ]
        },
        {
          "output_type": "execute_result",
          "data": {
            "text/plain": [
              "{'kaggle.json': b'{\"username\":\"marcyane7\",\"key\":\"7aa918d0d5cc83067e389a89473ce5b4\"}'}"
            ]
          },
          "metadata": {},
          "execution_count": 12
        }
      ]
    },
    {
      "cell_type": "code",
      "source": [
        "! mkdir ~/.kaggle\n",
        "! cp kaggle.json ~/.kaggle/\n",
        "! chmod 600 ~/.kaggle/kaggle.json"
      ],
      "metadata": {
        "id": "lRPwUxZSL7rz"
      },
      "execution_count": null,
      "outputs": []
    },
    {
      "cell_type": "code",
      "source": [
        "! kaggle datasets download -d retailrocket/ecommerce-dataset"
      ],
      "metadata": {
        "colab": {
          "base_uri": "https://localhost:8080/"
        },
        "id": "VMYsYvVALIQi",
        "outputId": "75ffadb2-8b79-43eb-f26c-10951515a0b3"
      },
      "execution_count": 14,
      "outputs": [
        {
          "output_type": "stream",
          "name": "stdout",
          "text": [
            "Downloading ecommerce-dataset.zip to /content\n",
            " 97% 282M/291M [00:03<00:00, 122MB/s]\n",
            "100% 291M/291M [00:03<00:00, 95.2MB/s]\n"
          ]
        }
      ]
    },
    {
      "cell_type": "code",
      "source": [
        "# # Uncomment if first time running\n",
        "# ! mkdir ecommerce-dataset\n",
        "# ! unzip ecommerce-dataset.zip -d ecommerce-dataset"
      ],
      "metadata": {
        "colab": {
          "base_uri": "https://localhost:8080/"
        },
        "id": "v7U6dCwpM_Ao",
        "outputId": "e95437cf-d99d-4ea5-f0be-96c2b67579b4"
      },
      "execution_count": 15,
      "outputs": [
        {
          "output_type": "stream",
          "name": "stdout",
          "text": [
            "Archive:  ecommerce-dataset.zip\n",
            "  inflating: ecommerce-dataset/category_tree.csv  \n",
            "  inflating: ecommerce-dataset/events.csv  \n",
            "  inflating: ecommerce-dataset/item_properties_part1.csv  \n",
            "  inflating: ecommerce-dataset/item_properties_part2.csv  \n"
          ]
        }
      ]
    },
    {
      "cell_type": "markdown",
      "metadata": {
        "id": "WIjdpIpL6hog"
      },
      "source": [
        "# ⚙️ Set Up"
      ]
    },
    {
      "cell_type": "markdown",
      "source": [
        "### You will need to restart the runtime in order to be able to use the newly installed libraries"
      ],
      "metadata": {
        "id": "rsrsN591W4f0"
      }
    },
    {
      "cell_type": "code",
      "execution_count": 5,
      "metadata": {
        "colab": {
          "base_uri": "https://localhost:8080/",
          "height": 1000
        },
        "id": "qPhXYVKO5qou",
        "outputId": "93759397-ac6a-40a0-fb91-a0ebea5fa109"
      },
      "outputs": [
        {
          "output_type": "stream",
          "name": "stdout",
          "text": [
            "Looking in indexes: https://pypi.org/simple, https://us-python.pkg.dev/colab-wheels/public/simple/\n",
            "Looking in links: https://data.pyg.org/whl/torch-1.10.0+cu113.html\n",
            "Collecting torch-scatter\n",
            "  Downloading torch_scatter-2.1.0.tar.gz (106 kB)\n",
            "\u001b[K     |████████████████████████████████| 106 kB 5.0 MB/s \n",
            "\u001b[?25hBuilding wheels for collected packages: torch-scatter\n",
            "  Building wheel for torch-scatter (setup.py) ... \u001b[?25l\u001b[?25hdone\n",
            "  Created wheel for torch-scatter: filename=torch_scatter-2.1.0-cp38-cp38-linux_x86_64.whl size=3398139 sha256=f0422cf701903c848dabe4b25c49d8e7391e2eaf959a165270fa8fca409c31be\n",
            "  Stored in directory: /root/.cache/pip/wheels/41/7f/4f/cf072bea3b6efe4561de2db3603ebbd8718c134c24caab8281\n",
            "Successfully built torch-scatter\n",
            "Installing collected packages: torch-scatter\n",
            "Successfully installed torch-scatter-2.1.0\n",
            "Looking in indexes: https://pypi.org/simple, https://us-python.pkg.dev/colab-wheels/public/simple/\n",
            "Looking in links: https://data.pyg.org/whl/torch-1.10.0+cu113.html\n",
            "Collecting torch-sparse\n",
            "  Downloading torch_sparse-0.6.16.tar.gz (208 kB)\n",
            "\u001b[K     |████████████████████████████████| 208 kB 4.8 MB/s \n",
            "\u001b[?25hRequirement already satisfied: scipy in /usr/local/lib/python3.8/dist-packages (from torch-sparse) (1.7.3)\n",
            "Requirement already satisfied: numpy<1.23.0,>=1.16.5 in /usr/local/lib/python3.8/dist-packages (from scipy->torch-sparse) (1.21.6)\n",
            "Building wheels for collected packages: torch-sparse\n",
            "  Building wheel for torch-sparse (setup.py) ... \u001b[?25l\u001b[?25hdone\n",
            "  Created wheel for torch-sparse: filename=torch_sparse-0.6.16-cp38-cp38-linux_x86_64.whl size=2508614 sha256=51edac4bb1c5942dd61d01cd930732d31043d0effa204968db89f30fee1271aa\n",
            "  Stored in directory: /root/.cache/pip/wheels/d7/f5/41/86610d3a3ce0bec241d8549ecdd6c7e07fe000e041616cfcd6\n",
            "Successfully built torch-sparse\n",
            "Installing collected packages: torch-sparse\n",
            "Successfully installed torch-sparse-0.6.16\n",
            "Looking in indexes: https://pypi.org/simple, https://us-python.pkg.dev/colab-wheels/public/simple/\n",
            "Collecting torch-geometric\n",
            "  Downloading torch_geometric-2.2.0.tar.gz (564 kB)\n",
            "\u001b[K     |████████████████████████████████| 564 kB 4.9 MB/s \n",
            "\u001b[?25hRequirement already satisfied: tqdm in /usr/local/lib/python3.8/dist-packages (from torch-geometric) (4.64.1)\n",
            "Requirement already satisfied: numpy in /usr/local/lib/python3.8/dist-packages (from torch-geometric) (1.21.6)\n",
            "Requirement already satisfied: scipy in /usr/local/lib/python3.8/dist-packages (from torch-geometric) (1.7.3)\n",
            "Requirement already satisfied: jinja2 in /usr/local/lib/python3.8/dist-packages (from torch-geometric) (2.11.3)\n",
            "Requirement already satisfied: requests in /usr/local/lib/python3.8/dist-packages (from torch-geometric) (2.23.0)\n",
            "Requirement already satisfied: pyparsing in /usr/local/lib/python3.8/dist-packages (from torch-geometric) (3.0.9)\n",
            "Requirement already satisfied: scikit-learn in /usr/local/lib/python3.8/dist-packages (from torch-geometric) (1.0.2)\n",
            "Collecting psutil>=5.8.0\n",
            "  Downloading psutil-5.9.4-cp36-abi3-manylinux_2_12_x86_64.manylinux2010_x86_64.manylinux_2_17_x86_64.manylinux2014_x86_64.whl (280 kB)\n",
            "\u001b[K     |████████████████████████████████| 280 kB 63.6 MB/s \n",
            "\u001b[?25hRequirement already satisfied: MarkupSafe>=0.23 in /usr/local/lib/python3.8/dist-packages (from jinja2->torch-geometric) (2.0.1)\n",
            "Requirement already satisfied: chardet<4,>=3.0.2 in /usr/local/lib/python3.8/dist-packages (from requests->torch-geometric) (3.0.4)\n",
            "Requirement already satisfied: idna<3,>=2.5 in /usr/local/lib/python3.8/dist-packages (from requests->torch-geometric) (2.10)\n",
            "Requirement already satisfied: urllib3!=1.25.0,!=1.25.1,<1.26,>=1.21.1 in /usr/local/lib/python3.8/dist-packages (from requests->torch-geometric) (1.24.3)\n",
            "Requirement already satisfied: certifi>=2017.4.17 in /usr/local/lib/python3.8/dist-packages (from requests->torch-geometric) (2022.12.7)\n",
            "Requirement already satisfied: threadpoolctl>=2.0.0 in /usr/local/lib/python3.8/dist-packages (from scikit-learn->torch-geometric) (3.1.0)\n",
            "Requirement already satisfied: joblib>=0.11 in /usr/local/lib/python3.8/dist-packages (from scikit-learn->torch-geometric) (1.2.0)\n",
            "Building wheels for collected packages: torch-geometric\n",
            "  Building wheel for torch-geometric (setup.py) ... \u001b[?25l\u001b[?25hdone\n",
            "  Created wheel for torch-geometric: filename=torch_geometric-2.2.0-py3-none-any.whl size=773302 sha256=31b834b46b8f8df3ca4f4122f512edd7bec50da08691ee98a79bf75f43fb007d\n",
            "  Stored in directory: /root/.cache/pip/wheels/59/a3/20/198928106d3169865ae73afcbd3d3d1796cf6b429b55c65378\n",
            "Successfully built torch-geometric\n",
            "Installing collected packages: psutil, torch-geometric\n",
            "  Attempting uninstall: psutil\n",
            "    Found existing installation: psutil 5.4.8\n",
            "    Uninstalling psutil-5.4.8:\n",
            "      Successfully uninstalled psutil-5.4.8\n",
            "Successfully installed psutil-5.9.4 torch-geometric-2.2.0\n"
          ]
        },
        {
          "output_type": "display_data",
          "data": {
            "application/vnd.colab-display-data+json": {
              "pip_warning": {
                "packages": [
                  "psutil"
                ]
              }
            }
          },
          "metadata": {}
        },
        {
          "output_type": "stream",
          "name": "stdout",
          "text": [
            "  Building wheel for deepsnap (setup.py) ... \u001b[?25l\u001b[?25hdone\n"
          ]
        }
      ],
      "source": [
        "# Uncomment if you have not run this cell before\n",
        "! pip install torch-scatter -f https://data.pyg.org/whl/torch-1.10.0+cu113.html\n",
        "! pip install torch-sparse -f https://data.pyg.org/whl/torch-1.10.0+cu113.html\n",
        "! pip install torch-geometric\n",
        "! pip install -q git+https://github.com/snap-stanford/deepsnap.git"
      ]
    },
    {
      "cell_type": "code",
      "source": [
        "! mkdir raw"
      ],
      "metadata": {
        "id": "yS-hOWxuxQZ5"
      },
      "execution_count": 32,
      "outputs": []
    },
    {
      "cell_type": "code",
      "source": [
        "# Import Python built-in libraries\n",
        "import copy\n",
        "import pickle\n",
        "import random\n",
        "import time"
      ],
      "metadata": {
        "id": "CRxB48iDiAF_"
      },
      "execution_count": 16,
      "outputs": []
    },
    {
      "cell_type": "code",
      "source": [
        "# Import pip libraries\n",
        "import matplotlib.pyplot as plt\n",
        "import numpy as np\n",
        "import pandas as pd\n",
        "from tqdm import tqdm, trange\n",
        "\n",
        "# Import torch packages\n",
        "import torch\n",
        "import torch.nn as nn\n",
        "import torch.nn.functional as F\n",
        "import torch.optim as optim\n",
        "from torch.utils import data\n",
        "\n",
        "# Import PyG packages\n",
        "import torch_geometric as pyg\n",
        "import torch_geometric.data as pyg_data\n",
        "from torch_geometric.typing import Adj, OptTensor\n",
        "import torch_sparse"
      ],
      "metadata": {
        "id": "HGQ13SWwiHRl"
      },
      "execution_count": 17,
      "outputs": []
    },
    {
      "cell_type": "markdown",
      "metadata": {
        "id": "DYrSfhkh6nIc"
      },
      "source": [
        "# ⚗️ Data Preprocessing"
      ]
    },
    {
      "cell_type": "markdown",
      "metadata": {
        "id": "MKM4wAYG9ssq"
      },
      "source": [
        "## Download\n",
        "\n",
        "You can download the data from 🔗[this kaggle competition](https://www.kaggle.com/retailrocket/ecommerce-dataset). We will only use the `events.csv` file.\n",
        "\n",
        "## Inspection\n",
        "\n",
        "Let's have a look at the dataset."
      ]
    },
    {
      "cell_type": "code",
      "source": [
        "CSV_PATH = \"ecommerce-dataset/events.csv\""
      ],
      "metadata": {
        "id": "YD3adFC3NzVg"
      },
      "execution_count": 18,
      "outputs": []
    },
    {
      "cell_type": "code",
      "execution_count": 19,
      "metadata": {
        "colab": {
          "base_uri": "https://localhost:8080/"
        },
        "id": "Pn79u2Vc7Bi7",
        "outputId": "0eda9450-1caa-40c4-ad1e-cbd60c2653ac"
      },
      "outputs": [
        {
          "output_type": "stream",
          "name": "stdout",
          "text": [
            "       timestamp  visitorid event  itemid  transactionid\n",
            "0  1433221332117     257597  view  355908            NaN\n",
            "1  1433224214164     992329  view  248676            NaN\n",
            "2  1433221999827     111016  view  318965            NaN\n",
            "3  1433221955914     483717  view  253185            NaN\n",
            "4  1433221337106     951259  view  367447            NaN\n",
            "There are 2756101 rows in the raw data.\n"
          ]
        }
      ],
      "source": [
        "# Load and have a peek into the dataset\n",
        "events_df = pd.read_csv(CSV_PATH)\n",
        "print(events_df.head())\n",
        "print(f'There are {len(events_df)} rows in the raw data.')"
      ]
    },
    {
      "cell_type": "code",
      "execution_count": 20,
      "metadata": {
        "colab": {
          "base_uri": "https://localhost:8080/",
          "height": 300
        },
        "id": "oD7SEiObBC8x",
        "outputId": "43e1497b-59ef-4eb3-df04-e241a2a512a4"
      },
      "outputs": [
        {
          "output_type": "execute_result",
          "data": {
            "text/plain": [
              "          timestamp     visitorid        itemid  transactionid\n",
              "count  2.756101e+06  2.756101e+06  2.756101e+06   22457.000000\n",
              "mean   1.436424e+12  7.019229e+05  2.349225e+05    8826.497796\n",
              "std    3.366312e+09  4.056875e+05  1.341954e+05    5098.996290\n",
              "min    1.430622e+12  0.000000e+00  3.000000e+00       0.000000\n",
              "25%    1.433478e+12  3.505660e+05  1.181200e+05    4411.000000\n",
              "50%    1.436453e+12  7.020600e+05  2.360670e+05    8813.000000\n",
              "75%    1.439225e+12  1.053437e+06  3.507150e+05   13224.000000\n",
              "max    1.442545e+12  1.407579e+06  4.668670e+05   17671.000000"
            ],
            "text/html": [
              "\n",
              "  <div id=\"df-ea759f69-b23b-4c9b-94d2-404bb2eeb05d\">\n",
              "    <div class=\"colab-df-container\">\n",
              "      <div>\n",
              "<style scoped>\n",
              "    .dataframe tbody tr th:only-of-type {\n",
              "        vertical-align: middle;\n",
              "    }\n",
              "\n",
              "    .dataframe tbody tr th {\n",
              "        vertical-align: top;\n",
              "    }\n",
              "\n",
              "    .dataframe thead th {\n",
              "        text-align: right;\n",
              "    }\n",
              "</style>\n",
              "<table border=\"1\" class=\"dataframe\">\n",
              "  <thead>\n",
              "    <tr style=\"text-align: right;\">\n",
              "      <th></th>\n",
              "      <th>timestamp</th>\n",
              "      <th>visitorid</th>\n",
              "      <th>itemid</th>\n",
              "      <th>transactionid</th>\n",
              "    </tr>\n",
              "  </thead>\n",
              "  <tbody>\n",
              "    <tr>\n",
              "      <th>count</th>\n",
              "      <td>2.756101e+06</td>\n",
              "      <td>2.756101e+06</td>\n",
              "      <td>2.756101e+06</td>\n",
              "      <td>22457.000000</td>\n",
              "    </tr>\n",
              "    <tr>\n",
              "      <th>mean</th>\n",
              "      <td>1.436424e+12</td>\n",
              "      <td>7.019229e+05</td>\n",
              "      <td>2.349225e+05</td>\n",
              "      <td>8826.497796</td>\n",
              "    </tr>\n",
              "    <tr>\n",
              "      <th>std</th>\n",
              "      <td>3.366312e+09</td>\n",
              "      <td>4.056875e+05</td>\n",
              "      <td>1.341954e+05</td>\n",
              "      <td>5098.996290</td>\n",
              "    </tr>\n",
              "    <tr>\n",
              "      <th>min</th>\n",
              "      <td>1.430622e+12</td>\n",
              "      <td>0.000000e+00</td>\n",
              "      <td>3.000000e+00</td>\n",
              "      <td>0.000000</td>\n",
              "    </tr>\n",
              "    <tr>\n",
              "      <th>25%</th>\n",
              "      <td>1.433478e+12</td>\n",
              "      <td>3.505660e+05</td>\n",
              "      <td>1.181200e+05</td>\n",
              "      <td>4411.000000</td>\n",
              "    </tr>\n",
              "    <tr>\n",
              "      <th>50%</th>\n",
              "      <td>1.436453e+12</td>\n",
              "      <td>7.020600e+05</td>\n",
              "      <td>2.360670e+05</td>\n",
              "      <td>8813.000000</td>\n",
              "    </tr>\n",
              "    <tr>\n",
              "      <th>75%</th>\n",
              "      <td>1.439225e+12</td>\n",
              "      <td>1.053437e+06</td>\n",
              "      <td>3.507150e+05</td>\n",
              "      <td>13224.000000</td>\n",
              "    </tr>\n",
              "    <tr>\n",
              "      <th>max</th>\n",
              "      <td>1.442545e+12</td>\n",
              "      <td>1.407579e+06</td>\n",
              "      <td>4.668670e+05</td>\n",
              "      <td>17671.000000</td>\n",
              "    </tr>\n",
              "  </tbody>\n",
              "</table>\n",
              "</div>\n",
              "      <button class=\"colab-df-convert\" onclick=\"convertToInteractive('df-ea759f69-b23b-4c9b-94d2-404bb2eeb05d')\"\n",
              "              title=\"Convert this dataframe to an interactive table.\"\n",
              "              style=\"display:none;\">\n",
              "        \n",
              "  <svg xmlns=\"http://www.w3.org/2000/svg\" height=\"24px\"viewBox=\"0 0 24 24\"\n",
              "       width=\"24px\">\n",
              "    <path d=\"M0 0h24v24H0V0z\" fill=\"none\"/>\n",
              "    <path d=\"M18.56 5.44l.94 2.06.94-2.06 2.06-.94-2.06-.94-.94-2.06-.94 2.06-2.06.94zm-11 1L8.5 8.5l.94-2.06 2.06-.94-2.06-.94L8.5 2.5l-.94 2.06-2.06.94zm10 10l.94 2.06.94-2.06 2.06-.94-2.06-.94-.94-2.06-.94 2.06-2.06.94z\"/><path d=\"M17.41 7.96l-1.37-1.37c-.4-.4-.92-.59-1.43-.59-.52 0-1.04.2-1.43.59L10.3 9.45l-7.72 7.72c-.78.78-.78 2.05 0 2.83L4 21.41c.39.39.9.59 1.41.59.51 0 1.02-.2 1.41-.59l7.78-7.78 2.81-2.81c.8-.78.8-2.07 0-2.86zM5.41 20L4 18.59l7.72-7.72 1.47 1.35L5.41 20z\"/>\n",
              "  </svg>\n",
              "      </button>\n",
              "      \n",
              "  <style>\n",
              "    .colab-df-container {\n",
              "      display:flex;\n",
              "      flex-wrap:wrap;\n",
              "      gap: 12px;\n",
              "    }\n",
              "\n",
              "    .colab-df-convert {\n",
              "      background-color: #E8F0FE;\n",
              "      border: none;\n",
              "      border-radius: 50%;\n",
              "      cursor: pointer;\n",
              "      display: none;\n",
              "      fill: #1967D2;\n",
              "      height: 32px;\n",
              "      padding: 0 0 0 0;\n",
              "      width: 32px;\n",
              "    }\n",
              "\n",
              "    .colab-df-convert:hover {\n",
              "      background-color: #E2EBFA;\n",
              "      box-shadow: 0px 1px 2px rgba(60, 64, 67, 0.3), 0px 1px 3px 1px rgba(60, 64, 67, 0.15);\n",
              "      fill: #174EA6;\n",
              "    }\n",
              "\n",
              "    [theme=dark] .colab-df-convert {\n",
              "      background-color: #3B4455;\n",
              "      fill: #D2E3FC;\n",
              "    }\n",
              "\n",
              "    [theme=dark] .colab-df-convert:hover {\n",
              "      background-color: #434B5C;\n",
              "      box-shadow: 0px 1px 3px 1px rgba(0, 0, 0, 0.15);\n",
              "      filter: drop-shadow(0px 1px 2px rgba(0, 0, 0, 0.3));\n",
              "      fill: #FFFFFF;\n",
              "    }\n",
              "  </style>\n",
              "\n",
              "      <script>\n",
              "        const buttonEl =\n",
              "          document.querySelector('#df-ea759f69-b23b-4c9b-94d2-404bb2eeb05d button.colab-df-convert');\n",
              "        buttonEl.style.display =\n",
              "          google.colab.kernel.accessAllowed ? 'block' : 'none';\n",
              "\n",
              "        async function convertToInteractive(key) {\n",
              "          const element = document.querySelector('#df-ea759f69-b23b-4c9b-94d2-404bb2eeb05d');\n",
              "          const dataTable =\n",
              "            await google.colab.kernel.invokeFunction('convertToInteractive',\n",
              "                                                     [key], {});\n",
              "          if (!dataTable) return;\n",
              "\n",
              "          const docLinkHtml = 'Like what you see? Visit the ' +\n",
              "            '<a target=\"_blank\" href=https://colab.research.google.com/notebooks/data_table.ipynb>data table notebook</a>'\n",
              "            + ' to learn more about interactive tables.';\n",
              "          element.innerHTML = '';\n",
              "          dataTable['output_type'] = 'display_data';\n",
              "          await google.colab.output.renderOutput(dataTable, element);\n",
              "          const docLink = document.createElement('div');\n",
              "          docLink.innerHTML = docLinkHtml;\n",
              "          element.appendChild(docLink);\n",
              "        }\n",
              "      </script>\n",
              "    </div>\n",
              "  </div>\n",
              "  "
            ]
          },
          "metadata": {},
          "execution_count": 20
        }
      ],
      "source": [
        "# Print the summarized statistics of the dataset\n",
        "events_df.describe()"
      ]
    },
    {
      "cell_type": "code",
      "execution_count": 21,
      "metadata": {
        "colab": {
          "base_uri": "https://localhost:8080/"
        },
        "id": "WLaXTMI3TqYe",
        "outputId": "04113b48-1d12-4bf6-fe88-06c6482332a7"
      },
      "outputs": [
        {
          "output_type": "execute_result",
          "data": {
            "text/plain": [
              "466867"
            ]
          },
          "metadata": {},
          "execution_count": 21
        }
      ],
      "source": [
        "# Check the maximum unique id of items.\n",
        "# We will use this as the total number of items to create item embeddings.\n",
        "max(events_df['itemid'])"
      ]
    },
    {
      "cell_type": "code",
      "source": [
        "display(events_df)"
      ],
      "metadata": {
        "id": "iggGJYTXa7t5",
        "outputId": "9c556d17-e9c1-426e-b40b-efa7a7eb7742",
        "colab": {
          "base_uri": "https://localhost:8080/",
          "height": 423
        }
      },
      "execution_count": 15,
      "outputs": [
        {
          "output_type": "display_data",
          "data": {
            "text/plain": [
              "             timestamp  visitorid event  itemid  transactionid\n",
              "0        1433221332117     257597  view  355908            NaN\n",
              "1        1433224214164     992329  view  248676            NaN\n",
              "2        1433221999827     111016  view  318965            NaN\n",
              "3        1433221955914     483717  view  253185            NaN\n",
              "4        1433221337106     951259  view  367447            NaN\n",
              "...                ...        ...   ...     ...            ...\n",
              "2756096  1438398785939     591435  view  261427            NaN\n",
              "2756097  1438399813142     762376  view  115946            NaN\n",
              "2756098  1438397820527    1251746  view   78144            NaN\n",
              "2756099  1438398530703    1184451  view  283392            NaN\n",
              "2756100  1438400163914     199536  view  152913            NaN\n",
              "\n",
              "[2756101 rows x 5 columns]"
            ],
            "text/html": [
              "\n",
              "  <div id=\"df-aa6f3fc5-6dff-4693-ae35-541915f2859f\">\n",
              "    <div class=\"colab-df-container\">\n",
              "      <div>\n",
              "<style scoped>\n",
              "    .dataframe tbody tr th:only-of-type {\n",
              "        vertical-align: middle;\n",
              "    }\n",
              "\n",
              "    .dataframe tbody tr th {\n",
              "        vertical-align: top;\n",
              "    }\n",
              "\n",
              "    .dataframe thead th {\n",
              "        text-align: right;\n",
              "    }\n",
              "</style>\n",
              "<table border=\"1\" class=\"dataframe\">\n",
              "  <thead>\n",
              "    <tr style=\"text-align: right;\">\n",
              "      <th></th>\n",
              "      <th>timestamp</th>\n",
              "      <th>visitorid</th>\n",
              "      <th>event</th>\n",
              "      <th>itemid</th>\n",
              "      <th>transactionid</th>\n",
              "    </tr>\n",
              "  </thead>\n",
              "  <tbody>\n",
              "    <tr>\n",
              "      <th>0</th>\n",
              "      <td>1433221332117</td>\n",
              "      <td>257597</td>\n",
              "      <td>view</td>\n",
              "      <td>355908</td>\n",
              "      <td>NaN</td>\n",
              "    </tr>\n",
              "    <tr>\n",
              "      <th>1</th>\n",
              "      <td>1433224214164</td>\n",
              "      <td>992329</td>\n",
              "      <td>view</td>\n",
              "      <td>248676</td>\n",
              "      <td>NaN</td>\n",
              "    </tr>\n",
              "    <tr>\n",
              "      <th>2</th>\n",
              "      <td>1433221999827</td>\n",
              "      <td>111016</td>\n",
              "      <td>view</td>\n",
              "      <td>318965</td>\n",
              "      <td>NaN</td>\n",
              "    </tr>\n",
              "    <tr>\n",
              "      <th>3</th>\n",
              "      <td>1433221955914</td>\n",
              "      <td>483717</td>\n",
              "      <td>view</td>\n",
              "      <td>253185</td>\n",
              "      <td>NaN</td>\n",
              "    </tr>\n",
              "    <tr>\n",
              "      <th>4</th>\n",
              "      <td>1433221337106</td>\n",
              "      <td>951259</td>\n",
              "      <td>view</td>\n",
              "      <td>367447</td>\n",
              "      <td>NaN</td>\n",
              "    </tr>\n",
              "    <tr>\n",
              "      <th>...</th>\n",
              "      <td>...</td>\n",
              "      <td>...</td>\n",
              "      <td>...</td>\n",
              "      <td>...</td>\n",
              "      <td>...</td>\n",
              "    </tr>\n",
              "    <tr>\n",
              "      <th>2756096</th>\n",
              "      <td>1438398785939</td>\n",
              "      <td>591435</td>\n",
              "      <td>view</td>\n",
              "      <td>261427</td>\n",
              "      <td>NaN</td>\n",
              "    </tr>\n",
              "    <tr>\n",
              "      <th>2756097</th>\n",
              "      <td>1438399813142</td>\n",
              "      <td>762376</td>\n",
              "      <td>view</td>\n",
              "      <td>115946</td>\n",
              "      <td>NaN</td>\n",
              "    </tr>\n",
              "    <tr>\n",
              "      <th>2756098</th>\n",
              "      <td>1438397820527</td>\n",
              "      <td>1251746</td>\n",
              "      <td>view</td>\n",
              "      <td>78144</td>\n",
              "      <td>NaN</td>\n",
              "    </tr>\n",
              "    <tr>\n",
              "      <th>2756099</th>\n",
              "      <td>1438398530703</td>\n",
              "      <td>1184451</td>\n",
              "      <td>view</td>\n",
              "      <td>283392</td>\n",
              "      <td>NaN</td>\n",
              "    </tr>\n",
              "    <tr>\n",
              "      <th>2756100</th>\n",
              "      <td>1438400163914</td>\n",
              "      <td>199536</td>\n",
              "      <td>view</td>\n",
              "      <td>152913</td>\n",
              "      <td>NaN</td>\n",
              "    </tr>\n",
              "  </tbody>\n",
              "</table>\n",
              "<p>2756101 rows × 5 columns</p>\n",
              "</div>\n",
              "      <button class=\"colab-df-convert\" onclick=\"convertToInteractive('df-aa6f3fc5-6dff-4693-ae35-541915f2859f')\"\n",
              "              title=\"Convert this dataframe to an interactive table.\"\n",
              "              style=\"display:none;\">\n",
              "        \n",
              "  <svg xmlns=\"http://www.w3.org/2000/svg\" height=\"24px\"viewBox=\"0 0 24 24\"\n",
              "       width=\"24px\">\n",
              "    <path d=\"M0 0h24v24H0V0z\" fill=\"none\"/>\n",
              "    <path d=\"M18.56 5.44l.94 2.06.94-2.06 2.06-.94-2.06-.94-.94-2.06-.94 2.06-2.06.94zm-11 1L8.5 8.5l.94-2.06 2.06-.94-2.06-.94L8.5 2.5l-.94 2.06-2.06.94zm10 10l.94 2.06.94-2.06 2.06-.94-2.06-.94-.94-2.06-.94 2.06-2.06.94z\"/><path d=\"M17.41 7.96l-1.37-1.37c-.4-.4-.92-.59-1.43-.59-.52 0-1.04.2-1.43.59L10.3 9.45l-7.72 7.72c-.78.78-.78 2.05 0 2.83L4 21.41c.39.39.9.59 1.41.59.51 0 1.02-.2 1.41-.59l7.78-7.78 2.81-2.81c.8-.78.8-2.07 0-2.86zM5.41 20L4 18.59l7.72-7.72 1.47 1.35L5.41 20z\"/>\n",
              "  </svg>\n",
              "      </button>\n",
              "      \n",
              "  <style>\n",
              "    .colab-df-container {\n",
              "      display:flex;\n",
              "      flex-wrap:wrap;\n",
              "      gap: 12px;\n",
              "    }\n",
              "\n",
              "    .colab-df-convert {\n",
              "      background-color: #E8F0FE;\n",
              "      border: none;\n",
              "      border-radius: 50%;\n",
              "      cursor: pointer;\n",
              "      display: none;\n",
              "      fill: #1967D2;\n",
              "      height: 32px;\n",
              "      padding: 0 0 0 0;\n",
              "      width: 32px;\n",
              "    }\n",
              "\n",
              "    .colab-df-convert:hover {\n",
              "      background-color: #E2EBFA;\n",
              "      box-shadow: 0px 1px 2px rgba(60, 64, 67, 0.3), 0px 1px 3px 1px rgba(60, 64, 67, 0.15);\n",
              "      fill: #174EA6;\n",
              "    }\n",
              "\n",
              "    [theme=dark] .colab-df-convert {\n",
              "      background-color: #3B4455;\n",
              "      fill: #D2E3FC;\n",
              "    }\n",
              "\n",
              "    [theme=dark] .colab-df-convert:hover {\n",
              "      background-color: #434B5C;\n",
              "      box-shadow: 0px 1px 3px 1px rgba(0, 0, 0, 0.15);\n",
              "      filter: drop-shadow(0px 1px 2px rgba(0, 0, 0, 0.3));\n",
              "      fill: #FFFFFF;\n",
              "    }\n",
              "  </style>\n",
              "\n",
              "      <script>\n",
              "        const buttonEl =\n",
              "          document.querySelector('#df-aa6f3fc5-6dff-4693-ae35-541915f2859f button.colab-df-convert');\n",
              "        buttonEl.style.display =\n",
              "          google.colab.kernel.accessAllowed ? 'block' : 'none';\n",
              "\n",
              "        async function convertToInteractive(key) {\n",
              "          const element = document.querySelector('#df-aa6f3fc5-6dff-4693-ae35-541915f2859f');\n",
              "          const dataTable =\n",
              "            await google.colab.kernel.invokeFunction('convertToInteractive',\n",
              "                                                     [key], {});\n",
              "          if (!dataTable) return;\n",
              "\n",
              "          const docLinkHtml = 'Like what you see? Visit the ' +\n",
              "            '<a target=\"_blank\" href=https://colab.research.google.com/notebooks/data_table.ipynb>data table notebook</a>'\n",
              "            + ' to learn more about interactive tables.';\n",
              "          element.innerHTML = '';\n",
              "          dataTable['output_type'] = 'display_data';\n",
              "          await google.colab.output.renderOutput(dataTable, element);\n",
              "          const docLink = document.createElement('div');\n",
              "          docLink.innerHTML = docLinkHtml;\n",
              "          element.appendChild(docLink);\n",
              "        }\n",
              "      </script>\n",
              "    </div>\n",
              "  </div>\n",
              "  "
            ]
          },
          "metadata": {}
        }
      ]
    },
    {
      "cell_type": "markdown",
      "metadata": {
        "id": "VNke6VEX-Tp1"
      },
      "source": [
        "## Separating log data into sessions\n",
        "\n",
        "Let's load and break all log data into sessions for all users. Note that these preprocessing logics were taken from [here](https://rzykov.github.io/notebooks/RetailRocketDatasetNextClick.html) where the code is written in Scala.\n",
        "\n",
        "Summary of what we do in the cell below:\n",
        "\n",
        "1. Filter only the 'view' events. Among the three types of events provided by the dataset, we will only use the 'view' events to predict and recommend the next 'viewed' item.\n",
        "2. Filter out visitors with single clicks.\n",
        "3. Group events by visitor id.\n",
        "4. Within the grouped events from a visitor, break and generate sessions"
      ]
    },
    {
      "cell_type": "code",
      "execution_count": 22,
      "metadata": {
        "colab": {
          "base_uri": "https://localhost:8080/"
        },
        "id": "36yeTCZ6-O6_",
        "outputId": "29d88780-8c37-4503-830c-eeed58a49f7c"
      },
      "outputs": [
        {
          "output_type": "stream",
          "name": "stdout",
          "text": [
            "There are 2664312 `view` events in the raw data.\n"
          ]
        }
      ],
      "source": [
        "# Filter only the 'view' events.\n",
        "events_df_filtered = events_df[events_df['event'] == 'view']\n",
        "print(f'There are {len(events_df_filtered)} `view` events in the raw data.')"
      ]
    },
    {
      "cell_type": "code",
      "source": [
        "events_df_filtered"
      ],
      "metadata": {
        "id": "8JJbXe_SbsCc",
        "outputId": "2b25771c-95ee-4f72-8956-3aa65164e1cc",
        "colab": {
          "base_uri": "https://localhost:8080/",
          "height": 423
        }
      },
      "execution_count": 23,
      "outputs": [
        {
          "output_type": "execute_result",
          "data": {
            "text/plain": [
              "             timestamp  visitorid event  itemid  transactionid\n",
              "0        1433221332117     257597  view  355908            NaN\n",
              "1        1433224214164     992329  view  248676            NaN\n",
              "2        1433221999827     111016  view  318965            NaN\n",
              "3        1433221955914     483717  view  253185            NaN\n",
              "4        1433221337106     951259  view  367447            NaN\n",
              "...                ...        ...   ...     ...            ...\n",
              "2756096  1438398785939     591435  view  261427            NaN\n",
              "2756097  1438399813142     762376  view  115946            NaN\n",
              "2756098  1438397820527    1251746  view   78144            NaN\n",
              "2756099  1438398530703    1184451  view  283392            NaN\n",
              "2756100  1438400163914     199536  view  152913            NaN\n",
              "\n",
              "[2664312 rows x 5 columns]"
            ],
            "text/html": [
              "\n",
              "  <div id=\"df-49765d23-d8d6-4ee8-a460-c3e72e77782b\">\n",
              "    <div class=\"colab-df-container\">\n",
              "      <div>\n",
              "<style scoped>\n",
              "    .dataframe tbody tr th:only-of-type {\n",
              "        vertical-align: middle;\n",
              "    }\n",
              "\n",
              "    .dataframe tbody tr th {\n",
              "        vertical-align: top;\n",
              "    }\n",
              "\n",
              "    .dataframe thead th {\n",
              "        text-align: right;\n",
              "    }\n",
              "</style>\n",
              "<table border=\"1\" class=\"dataframe\">\n",
              "  <thead>\n",
              "    <tr style=\"text-align: right;\">\n",
              "      <th></th>\n",
              "      <th>timestamp</th>\n",
              "      <th>visitorid</th>\n",
              "      <th>event</th>\n",
              "      <th>itemid</th>\n",
              "      <th>transactionid</th>\n",
              "    </tr>\n",
              "  </thead>\n",
              "  <tbody>\n",
              "    <tr>\n",
              "      <th>0</th>\n",
              "      <td>1433221332117</td>\n",
              "      <td>257597</td>\n",
              "      <td>view</td>\n",
              "      <td>355908</td>\n",
              "      <td>NaN</td>\n",
              "    </tr>\n",
              "    <tr>\n",
              "      <th>1</th>\n",
              "      <td>1433224214164</td>\n",
              "      <td>992329</td>\n",
              "      <td>view</td>\n",
              "      <td>248676</td>\n",
              "      <td>NaN</td>\n",
              "    </tr>\n",
              "    <tr>\n",
              "      <th>2</th>\n",
              "      <td>1433221999827</td>\n",
              "      <td>111016</td>\n",
              "      <td>view</td>\n",
              "      <td>318965</td>\n",
              "      <td>NaN</td>\n",
              "    </tr>\n",
              "    <tr>\n",
              "      <th>3</th>\n",
              "      <td>1433221955914</td>\n",
              "      <td>483717</td>\n",
              "      <td>view</td>\n",
              "      <td>253185</td>\n",
              "      <td>NaN</td>\n",
              "    </tr>\n",
              "    <tr>\n",
              "      <th>4</th>\n",
              "      <td>1433221337106</td>\n",
              "      <td>951259</td>\n",
              "      <td>view</td>\n",
              "      <td>367447</td>\n",
              "      <td>NaN</td>\n",
              "    </tr>\n",
              "    <tr>\n",
              "      <th>...</th>\n",
              "      <td>...</td>\n",
              "      <td>...</td>\n",
              "      <td>...</td>\n",
              "      <td>...</td>\n",
              "      <td>...</td>\n",
              "    </tr>\n",
              "    <tr>\n",
              "      <th>2756096</th>\n",
              "      <td>1438398785939</td>\n",
              "      <td>591435</td>\n",
              "      <td>view</td>\n",
              "      <td>261427</td>\n",
              "      <td>NaN</td>\n",
              "    </tr>\n",
              "    <tr>\n",
              "      <th>2756097</th>\n",
              "      <td>1438399813142</td>\n",
              "      <td>762376</td>\n",
              "      <td>view</td>\n",
              "      <td>115946</td>\n",
              "      <td>NaN</td>\n",
              "    </tr>\n",
              "    <tr>\n",
              "      <th>2756098</th>\n",
              "      <td>1438397820527</td>\n",
              "      <td>1251746</td>\n",
              "      <td>view</td>\n",
              "      <td>78144</td>\n",
              "      <td>NaN</td>\n",
              "    </tr>\n",
              "    <tr>\n",
              "      <th>2756099</th>\n",
              "      <td>1438398530703</td>\n",
              "      <td>1184451</td>\n",
              "      <td>view</td>\n",
              "      <td>283392</td>\n",
              "      <td>NaN</td>\n",
              "    </tr>\n",
              "    <tr>\n",
              "      <th>2756100</th>\n",
              "      <td>1438400163914</td>\n",
              "      <td>199536</td>\n",
              "      <td>view</td>\n",
              "      <td>152913</td>\n",
              "      <td>NaN</td>\n",
              "    </tr>\n",
              "  </tbody>\n",
              "</table>\n",
              "<p>2664312 rows × 5 columns</p>\n",
              "</div>\n",
              "      <button class=\"colab-df-convert\" onclick=\"convertToInteractive('df-49765d23-d8d6-4ee8-a460-c3e72e77782b')\"\n",
              "              title=\"Convert this dataframe to an interactive table.\"\n",
              "              style=\"display:none;\">\n",
              "        \n",
              "  <svg xmlns=\"http://www.w3.org/2000/svg\" height=\"24px\"viewBox=\"0 0 24 24\"\n",
              "       width=\"24px\">\n",
              "    <path d=\"M0 0h24v24H0V0z\" fill=\"none\"/>\n",
              "    <path d=\"M18.56 5.44l.94 2.06.94-2.06 2.06-.94-2.06-.94-.94-2.06-.94 2.06-2.06.94zm-11 1L8.5 8.5l.94-2.06 2.06-.94-2.06-.94L8.5 2.5l-.94 2.06-2.06.94zm10 10l.94 2.06.94-2.06 2.06-.94-2.06-.94-.94-2.06-.94 2.06-2.06.94z\"/><path d=\"M17.41 7.96l-1.37-1.37c-.4-.4-.92-.59-1.43-.59-.52 0-1.04.2-1.43.59L10.3 9.45l-7.72 7.72c-.78.78-.78 2.05 0 2.83L4 21.41c.39.39.9.59 1.41.59.51 0 1.02-.2 1.41-.59l7.78-7.78 2.81-2.81c.8-.78.8-2.07 0-2.86zM5.41 20L4 18.59l7.72-7.72 1.47 1.35L5.41 20z\"/>\n",
              "  </svg>\n",
              "      </button>\n",
              "      \n",
              "  <style>\n",
              "    .colab-df-container {\n",
              "      display:flex;\n",
              "      flex-wrap:wrap;\n",
              "      gap: 12px;\n",
              "    }\n",
              "\n",
              "    .colab-df-convert {\n",
              "      background-color: #E8F0FE;\n",
              "      border: none;\n",
              "      border-radius: 50%;\n",
              "      cursor: pointer;\n",
              "      display: none;\n",
              "      fill: #1967D2;\n",
              "      height: 32px;\n",
              "      padding: 0 0 0 0;\n",
              "      width: 32px;\n",
              "    }\n",
              "\n",
              "    .colab-df-convert:hover {\n",
              "      background-color: #E2EBFA;\n",
              "      box-shadow: 0px 1px 2px rgba(60, 64, 67, 0.3), 0px 1px 3px 1px rgba(60, 64, 67, 0.15);\n",
              "      fill: #174EA6;\n",
              "    }\n",
              "\n",
              "    [theme=dark] .colab-df-convert {\n",
              "      background-color: #3B4455;\n",
              "      fill: #D2E3FC;\n",
              "    }\n",
              "\n",
              "    [theme=dark] .colab-df-convert:hover {\n",
              "      background-color: #434B5C;\n",
              "      box-shadow: 0px 1px 3px 1px rgba(0, 0, 0, 0.15);\n",
              "      filter: drop-shadow(0px 1px 2px rgba(0, 0, 0, 0.3));\n",
              "      fill: #FFFFFF;\n",
              "    }\n",
              "  </style>\n",
              "\n",
              "      <script>\n",
              "        const buttonEl =\n",
              "          document.querySelector('#df-49765d23-d8d6-4ee8-a460-c3e72e77782b button.colab-df-convert');\n",
              "        buttonEl.style.display =\n",
              "          google.colab.kernel.accessAllowed ? 'block' : 'none';\n",
              "\n",
              "        async function convertToInteractive(key) {\n",
              "          const element = document.querySelector('#df-49765d23-d8d6-4ee8-a460-c3e72e77782b');\n",
              "          const dataTable =\n",
              "            await google.colab.kernel.invokeFunction('convertToInteractive',\n",
              "                                                     [key], {});\n",
              "          if (!dataTable) return;\n",
              "\n",
              "          const docLinkHtml = 'Like what you see? Visit the ' +\n",
              "            '<a target=\"_blank\" href=https://colab.research.google.com/notebooks/data_table.ipynb>data table notebook</a>'\n",
              "            + ' to learn more about interactive tables.';\n",
              "          element.innerHTML = '';\n",
              "          dataTable['output_type'] = 'display_data';\n",
              "          await google.colab.output.renderOutput(dataTable, element);\n",
              "          const docLink = document.createElement('div');\n",
              "          docLink.innerHTML = docLinkHtml;\n",
              "          element.appendChild(docLink);\n",
              "        }\n",
              "      </script>\n",
              "    </div>\n",
              "  </div>\n",
              "  "
            ]
          },
          "metadata": {},
          "execution_count": 23
        }
      ]
    },
    {
      "cell_type": "code",
      "source": [
        "# Filter out visitors with single clicks.\n",
        "visit_counts_per_visitor = events_df_filtered['visitorid'].value_counts(dropna=False)\n",
        "display(visit_counts_per_visitor)"
      ],
      "metadata": {
        "id": "4rE22id5cD64",
        "outputId": "79c332e6-9966-4686-cf82-bacf8087c441",
        "colab": {
          "base_uri": "https://localhost:8080/",
          "height": 225
        }
      },
      "execution_count": 24,
      "outputs": [
        {
          "output_type": "display_data",
          "data": {
            "text/plain": [
              "1150086    6479\n",
              "530559     3623\n",
              "895999     2368\n",
              "152963     2304\n",
              "163561     2194\n",
              "           ... \n",
              "908147        1\n",
              "258979        1\n",
              "551045        1\n",
              "218233        1\n",
              "1184451       1\n",
              "Name: visitorid, Length: 1404179, dtype: int64"
            ]
          },
          "metadata": {}
        }
      ]
    },
    {
      "cell_type": "code",
      "execution_count": 25,
      "metadata": {
        "id": "72rxoxUqBT3J",
        "colab": {
          "base_uri": "https://localhost:8080/",
          "height": 423
        },
        "outputId": "b6659c39-636d-4859-acc5-23247333a292"
      },
      "outputs": [
        {
          "output_type": "display_data",
          "data": {
            "text/plain": [
              "             timestamp  visitorid event  itemid  transactionid\n",
              "0        1433221332117     257597  view  355908            NaN\n",
              "1        1433224214164     992329  view  248676            NaN\n",
              "2        1433221999827     111016  view  318965            NaN\n",
              "3        1433221955914     483717  view  253185            NaN\n",
              "5        1433224086234     972639  view   22556            NaN\n",
              "...                ...        ...   ...     ...            ...\n",
              "2756092  1438398473572     709520  view  104512            NaN\n",
              "2756094  1438399289446     701750  view  296172            NaN\n",
              "2756095  1438400574346     289041  view  156947            NaN\n",
              "2756098  1438397820527    1251746  view   78144            NaN\n",
              "2756100  1438400163914     199536  view  152913            NaN\n",
              "\n",
              "[1656582 rows x 5 columns]"
            ],
            "text/html": [
              "\n",
              "  <div id=\"df-6301fff0-b084-4b6a-b12f-e34f47aebd1c\">\n",
              "    <div class=\"colab-df-container\">\n",
              "      <div>\n",
              "<style scoped>\n",
              "    .dataframe tbody tr th:only-of-type {\n",
              "        vertical-align: middle;\n",
              "    }\n",
              "\n",
              "    .dataframe tbody tr th {\n",
              "        vertical-align: top;\n",
              "    }\n",
              "\n",
              "    .dataframe thead th {\n",
              "        text-align: right;\n",
              "    }\n",
              "</style>\n",
              "<table border=\"1\" class=\"dataframe\">\n",
              "  <thead>\n",
              "    <tr style=\"text-align: right;\">\n",
              "      <th></th>\n",
              "      <th>timestamp</th>\n",
              "      <th>visitorid</th>\n",
              "      <th>event</th>\n",
              "      <th>itemid</th>\n",
              "      <th>transactionid</th>\n",
              "    </tr>\n",
              "  </thead>\n",
              "  <tbody>\n",
              "    <tr>\n",
              "      <th>0</th>\n",
              "      <td>1433221332117</td>\n",
              "      <td>257597</td>\n",
              "      <td>view</td>\n",
              "      <td>355908</td>\n",
              "      <td>NaN</td>\n",
              "    </tr>\n",
              "    <tr>\n",
              "      <th>1</th>\n",
              "      <td>1433224214164</td>\n",
              "      <td>992329</td>\n",
              "      <td>view</td>\n",
              "      <td>248676</td>\n",
              "      <td>NaN</td>\n",
              "    </tr>\n",
              "    <tr>\n",
              "      <th>2</th>\n",
              "      <td>1433221999827</td>\n",
              "      <td>111016</td>\n",
              "      <td>view</td>\n",
              "      <td>318965</td>\n",
              "      <td>NaN</td>\n",
              "    </tr>\n",
              "    <tr>\n",
              "      <th>3</th>\n",
              "      <td>1433221955914</td>\n",
              "      <td>483717</td>\n",
              "      <td>view</td>\n",
              "      <td>253185</td>\n",
              "      <td>NaN</td>\n",
              "    </tr>\n",
              "    <tr>\n",
              "      <th>5</th>\n",
              "      <td>1433224086234</td>\n",
              "      <td>972639</td>\n",
              "      <td>view</td>\n",
              "      <td>22556</td>\n",
              "      <td>NaN</td>\n",
              "    </tr>\n",
              "    <tr>\n",
              "      <th>...</th>\n",
              "      <td>...</td>\n",
              "      <td>...</td>\n",
              "      <td>...</td>\n",
              "      <td>...</td>\n",
              "      <td>...</td>\n",
              "    </tr>\n",
              "    <tr>\n",
              "      <th>2756092</th>\n",
              "      <td>1438398473572</td>\n",
              "      <td>709520</td>\n",
              "      <td>view</td>\n",
              "      <td>104512</td>\n",
              "      <td>NaN</td>\n",
              "    </tr>\n",
              "    <tr>\n",
              "      <th>2756094</th>\n",
              "      <td>1438399289446</td>\n",
              "      <td>701750</td>\n",
              "      <td>view</td>\n",
              "      <td>296172</td>\n",
              "      <td>NaN</td>\n",
              "    </tr>\n",
              "    <tr>\n",
              "      <th>2756095</th>\n",
              "      <td>1438400574346</td>\n",
              "      <td>289041</td>\n",
              "      <td>view</td>\n",
              "      <td>156947</td>\n",
              "      <td>NaN</td>\n",
              "    </tr>\n",
              "    <tr>\n",
              "      <th>2756098</th>\n",
              "      <td>1438397820527</td>\n",
              "      <td>1251746</td>\n",
              "      <td>view</td>\n",
              "      <td>78144</td>\n",
              "      <td>NaN</td>\n",
              "    </tr>\n",
              "    <tr>\n",
              "      <th>2756100</th>\n",
              "      <td>1438400163914</td>\n",
              "      <td>199536</td>\n",
              "      <td>view</td>\n",
              "      <td>152913</td>\n",
              "      <td>NaN</td>\n",
              "    </tr>\n",
              "  </tbody>\n",
              "</table>\n",
              "<p>1656582 rows × 5 columns</p>\n",
              "</div>\n",
              "      <button class=\"colab-df-convert\" onclick=\"convertToInteractive('df-6301fff0-b084-4b6a-b12f-e34f47aebd1c')\"\n",
              "              title=\"Convert this dataframe to an interactive table.\"\n",
              "              style=\"display:none;\">\n",
              "        \n",
              "  <svg xmlns=\"http://www.w3.org/2000/svg\" height=\"24px\"viewBox=\"0 0 24 24\"\n",
              "       width=\"24px\">\n",
              "    <path d=\"M0 0h24v24H0V0z\" fill=\"none\"/>\n",
              "    <path d=\"M18.56 5.44l.94 2.06.94-2.06 2.06-.94-2.06-.94-.94-2.06-.94 2.06-2.06.94zm-11 1L8.5 8.5l.94-2.06 2.06-.94-2.06-.94L8.5 2.5l-.94 2.06-2.06.94zm10 10l.94 2.06.94-2.06 2.06-.94-2.06-.94-.94-2.06-.94 2.06-2.06.94z\"/><path d=\"M17.41 7.96l-1.37-1.37c-.4-.4-.92-.59-1.43-.59-.52 0-1.04.2-1.43.59L10.3 9.45l-7.72 7.72c-.78.78-.78 2.05 0 2.83L4 21.41c.39.39.9.59 1.41.59.51 0 1.02-.2 1.41-.59l7.78-7.78 2.81-2.81c.8-.78.8-2.07 0-2.86zM5.41 20L4 18.59l7.72-7.72 1.47 1.35L5.41 20z\"/>\n",
              "  </svg>\n",
              "      </button>\n",
              "      \n",
              "  <style>\n",
              "    .colab-df-container {\n",
              "      display:flex;\n",
              "      flex-wrap:wrap;\n",
              "      gap: 12px;\n",
              "    }\n",
              "\n",
              "    .colab-df-convert {\n",
              "      background-color: #E8F0FE;\n",
              "      border: none;\n",
              "      border-radius: 50%;\n",
              "      cursor: pointer;\n",
              "      display: none;\n",
              "      fill: #1967D2;\n",
              "      height: 32px;\n",
              "      padding: 0 0 0 0;\n",
              "      width: 32px;\n",
              "    }\n",
              "\n",
              "    .colab-df-convert:hover {\n",
              "      background-color: #E2EBFA;\n",
              "      box-shadow: 0px 1px 2px rgba(60, 64, 67, 0.3), 0px 1px 3px 1px rgba(60, 64, 67, 0.15);\n",
              "      fill: #174EA6;\n",
              "    }\n",
              "\n",
              "    [theme=dark] .colab-df-convert {\n",
              "      background-color: #3B4455;\n",
              "      fill: #D2E3FC;\n",
              "    }\n",
              "\n",
              "    [theme=dark] .colab-df-convert:hover {\n",
              "      background-color: #434B5C;\n",
              "      box-shadow: 0px 1px 3px 1px rgba(0, 0, 0, 0.15);\n",
              "      filter: drop-shadow(0px 1px 2px rgba(0, 0, 0, 0.3));\n",
              "      fill: #FFFFFF;\n",
              "    }\n",
              "  </style>\n",
              "\n",
              "      <script>\n",
              "        const buttonEl =\n",
              "          document.querySelector('#df-6301fff0-b084-4b6a-b12f-e34f47aebd1c button.colab-df-convert');\n",
              "        buttonEl.style.display =\n",
              "          google.colab.kernel.accessAllowed ? 'block' : 'none';\n",
              "\n",
              "        async function convertToInteractive(key) {\n",
              "          const element = document.querySelector('#df-6301fff0-b084-4b6a-b12f-e34f47aebd1c');\n",
              "          const dataTable =\n",
              "            await google.colab.kernel.invokeFunction('convertToInteractive',\n",
              "                                                     [key], {});\n",
              "          if (!dataTable) return;\n",
              "\n",
              "          const docLinkHtml = 'Like what you see? Visit the ' +\n",
              "            '<a target=\"_blank\" href=https://colab.research.google.com/notebooks/data_table.ipynb>data table notebook</a>'\n",
              "            + ' to learn more about interactive tables.';\n",
              "          element.innerHTML = '';\n",
              "          dataTable['output_type'] = 'display_data';\n",
              "          await google.colab.output.renderOutput(dataTable, element);\n",
              "          const docLink = document.createElement('div');\n",
              "          docLink.innerHTML = docLinkHtml;\n",
              "          element.appendChild(docLink);\n",
              "        }\n",
              "      </script>\n",
              "    </div>\n",
              "  </div>\n",
              "  "
            ]
          },
          "metadata": {}
        }
      ],
      "source": [
        "visitors_with_significant_visits = visit_counts_per_visitor[visit_counts_per_visitor > 1].index\n",
        "events_df_filtered = events_df_filtered[events_df_filtered['visitorid'].isin(visitors_with_significant_visits)]\n",
        "display(events_df_filtered)"
      ]
    },
    {
      "cell_type": "code",
      "execution_count": 26,
      "metadata": {
        "colab": {
          "base_uri": "https://localhost:8080/"
        },
        "id": "jQDjX6S1D-nH",
        "outputId": "94eacd1c-8704-4199-c031-9e6f457c959e"
      },
      "outputs": [
        {
          "output_type": "stream",
          "name": "stderr",
          "text": [
            "1656582it [01:10, 23358.70it/s]\n"
          ]
        },
        {
          "output_type": "stream",
          "name": "stdout",
          "text": [
            "\n",
            "There are 396449 visitors left.\n"
          ]
        }
      ],
      "source": [
        "# Let's group events and their timing data by their visitorid.\n",
        "visits_by_visitors = {}\n",
        "for _, row in enumerate(tqdm(events_df_filtered.iterrows())):\n",
        "    timestamp, visitorid, event, itemid, transactionid = row[1].values\n",
        "\n",
        "    if visitorid not in visits_by_visitors:\n",
        "        visits_by_visitors[visitorid] = {'itemids': [], 'timestamps': []}\n",
        "    visits_by_visitors[visitorid]['itemids'].append(itemid)\n",
        "    visits_by_visitors[visitorid]['timestamps'].append(timestamp)\n",
        "\n",
        "print()\n",
        "assert len(visits_by_visitors) == events_df_filtered['visitorid'].nunique()\n",
        "print(f'There are {len(visits_by_visitors)} visitors left.')"
      ]
    },
    {
      "cell_type": "code",
      "execution_count": 27,
      "metadata": {
        "colab": {
          "base_uri": "https://localhost:8080/"
        },
        "id": "0YdCvwXpIpN6",
        "outputId": "1860e215-9029-4d91-de30-969dbc0bb9e3"
      },
      "outputs": [
        {
          "output_type": "stream",
          "name": "stdout",
          "text": [
            "\n",
            "There are 396449 sessions. That is the same number of visitors.\n"
          ]
        }
      ],
      "source": [
        "# We will separate sessions by 2 hours.\n",
        "delay = 2 * 3600 * 1000 # since timestamps are in seconds, we have 2(hours) * 3600(seconds) * 3600(miliseconds) \n",
        "\n",
        "# Let's group events from visitors into sessions.\n",
        "sessions_by_visitors = {}\n",
        "for visitorid, visitor_dict in visits_by_visitors.items():\n",
        "    sessions = [[]]\n",
        "    events_sorted = sorted(zip(visitor_dict['timestamps'],\n",
        "                               visitor_dict['itemids']))\n",
        "    for i in range(len(events_sorted) - 1):\n",
        "        sessions[-1].append(events_sorted[i][1])\n",
        "        if (events_sorted[i+1][0] - events_sorted[i][0]) > delay:\n",
        "            sessions.append([])\n",
        "    sessions[-1].append(events_sorted[len(events_sorted) - 1][1])\n",
        "    sessions_by_visitors[visitorid] = sessions\n",
        "\n",
        "print()\n",
        "print(f'There are {len(sessions_by_visitors)} sessions. That is the same number of visitors.')"
      ]
    },
    {
      "cell_type": "markdown",
      "metadata": {
        "id": "Z4DjtBWb_sdR"
      },
      "source": [
        "## Splitting train and test dataset\n",
        "\n",
        "Now let's split the train, validation, and test dataset. We will split the dataset by user ids. Each user will only be found in one of the three splits! We split like this because the model may 'cheat' from partial sessions of a user during training and use that information during test time."
      ]
    },
    {
      "cell_type": "code",
      "execution_count": 28,
      "metadata": {
        "id": "80Shzu4P-s_9"
      },
      "outputs": [],
      "source": [
        "# Adjsut sampling rate ([0, 1]) to generate smaller datasets.\n",
        "# Setting `sampling_rate` to 1 will lead to a full dataset split.\n",
        "sampling_rate = 1\n",
        "\n",
        "# We use random seed for reproducibility.\n",
        "seed = 42\n",
        "all_visitors = list(sessions_by_visitors.keys())\n",
        "random.Random(seed).shuffle(all_visitors)\n",
        "\n",
        "num_train = int(len(all_visitors) * 0.8 * sampling_rate)\n",
        "num_val = int(len(all_visitors) * 0.1 * sampling_rate)\n",
        "num_test = int(len(all_visitors) * 0.1 * sampling_rate)\n",
        "\n",
        "train_visitors = all_visitors[:num_train]\n",
        "val_visitors = all_visitors[num_train : num_train+num_val]\n",
        "test_visitors = all_visitors[num_train+num_val:num_train+num_val+num_test]"
      ]
    },
    {
      "cell_type": "markdown",
      "metadata": {
        "id": "WDJlaUbn_3Tf"
      },
      "source": [
        "Let's check the size of each split and pickle the preprocessed data."
      ]
    },
    {
      "cell_type": "code",
      "execution_count": 29,
      "metadata": {
        "id": "vOt9UVcesil7"
      },
      "outputs": [],
      "source": [
        "def extract_subsessions(sessions):\n",
        "    \"\"\"Extracts all partial sessions from the sessions given.\n",
        "\n",
        "    For example, a session (1, 2, 3) should be augemnted to produce two\n",
        "    separate sessions (1, 2) and (1, 2, 3).\n",
        "    \"\"\"\n",
        "    all_sessions = []\n",
        "    for session in sessions:\n",
        "        for i in range(1, len(session)):\n",
        "            all_sessions.append(session[:i+1])\n",
        "    return all_sessions"
      ]
    },
    {
      "cell_type": "code",
      "execution_count": 30,
      "metadata": {
        "colab": {
          "base_uri": "https://localhost:8080/"
        },
        "id": "dOTFciFbAHDl",
        "outputId": "71178fe7-6077-4621-fdbf-424ba0a67fc4"
      },
      "outputs": [
        {
          "output_type": "stream",
          "name": "stdout",
          "text": [
            "train, val, and test visitors: (317159, 39644, 39644)\n"
          ]
        }
      ],
      "source": [
        "# Check the number of visitors in each split\n",
        "print(f'train, val, and test visitors: {len(train_visitors), len(val_visitors), len(test_visitors)}')\n",
        "\n",
        "# Get sessions of each visitor, generate subsessions of each session, and put\n",
        "# all the generated subsessions into right splits. We generate subsessions\n",
        "# according to the dataset generation policy suggested by the original SR-GNN\n",
        "# paper.\n",
        "train_sessions, val_sessions, test_sessions = [], [], []\n",
        "for visitor in train_visitors:\n",
        "    train_sessions.extend(extract_subsessions(sessions_by_visitors[visitor]))\n",
        "for visitor in val_visitors:\n",
        "    val_sessions.extend(extract_subsessions(sessions_by_visitors[visitor]))\n",
        "for visitor in test_visitors:\n",
        "    test_sessions.extend(extract_subsessions(sessions_by_visitors[visitor]))"
      ]
    },
    {
      "cell_type": "code",
      "execution_count": 33,
      "metadata": {
        "colab": {
          "base_uri": "https://localhost:8080/"
        },
        "id": "sHNN9AV55P-v",
        "outputId": "92cbdd31-1e13-4fd0-87be-7d545a7e37f5"
      },
      "outputs": [
        {
          "output_type": "stream",
          "name": "stdout",
          "text": [
            "train, val, and test sessions: (781928, 91317, 96896)\n"
          ]
        }
      ],
      "source": [
        "# Check the number of (sub)sessions in each split\n",
        "print(f'train, val, and test sessions: {len(train_sessions), len(val_sessions), len(test_sessions)}')\n",
        "\n",
        "# Save the processed files.\n",
        "with open('raw/train.txt', 'wb') as f:\n",
        "    pickle.dump(train_sessions, f)\n",
        "with open('raw/val.txt', 'wb') as f:\n",
        "    pickle.dump(val_sessions, f)\n",
        "with open('raw/test.txt', 'wb') as f:\n",
        "    pickle.dump(test_sessions, f)"
      ]
    },
    {
      "cell_type": "markdown",
      "metadata": {
        "id": "AK8wBmby8SWt"
      },
      "source": [
        "# 📦 Data Pipeline\n",
        "\n",
        "For data ingestion, we use PyTorch's `dataloader` and PyG's `Data` class. To learn more about the `Data` class, check out the documentation [here](https://pytorch-geometric.readthedocs.io/en/latest/modules/data.html#module-torch_geometric.data)."
      ]
    },
    {
      "cell_type": "code",
      "execution_count": 34,
      "metadata": {
        "id": "82KWESLd-1gV"
      },
      "outputs": [],
      "source": [
        "class GraphDataset(pyg_data.InMemoryDataset):\n",
        "    def __init__(self, root, file_name, transform=None, pre_transform=None):\n",
        "        self.file_name = file_name\n",
        "        super().__init__(root, transform, pre_transform)\n",
        "        self.data, self.slices = torch.load(self.processed_paths[0])\n",
        "\n",
        "    @property\n",
        "    def raw_file_names(self):\n",
        "        return [f'{self.file_name}.txt']\n",
        "\n",
        "    @property\n",
        "    def processed_file_names(self):\n",
        "        return [f'{self.file_name}.pt']\n",
        "\n",
        "    def download(self):\n",
        "        pass\n",
        "\n",
        "    def process(self):\n",
        "        raw_data_file = f'{self.raw_dir}/{self.raw_file_names[0]}'\n",
        "        with open(raw_data_file, 'rb') as f:\n",
        "            sessions = pickle.load(f)\n",
        "        data_list = []\n",
        "\n",
        "        for session in sessions:\n",
        "            session, y = session[:-1], session[-1]\n",
        "            codes, uniques = pd.factorize(session)\n",
        "            senders, receivers = codes[:-1], codes[1:]\n",
        "\n",
        "            # Build Data instance\n",
        "            edge_index = torch.tensor([senders, receivers], dtype=torch.long)\n",
        "            x = torch.tensor(uniques, dtype=torch.long).unsqueeze(1)\n",
        "            y = torch.tensor([y], dtype=torch.long)\n",
        "            data_list.append(pyg_data.Data(x=x, edge_index=edge_index, y=y))\n",
        "\n",
        "        data, slices = self.collate(data_list)\n",
        "        torch.save((data, slices), self.processed_paths[0])"
      ]
    },
    {
      "cell_type": "markdown",
      "metadata": {
        "id": "GD9bwJaUCOge"
      },
      "source": [
        "# 🔮 Model Design\n",
        "\n",
        "Our gated session graph layer has two main parts: (1) message propagation to create an adjacency matrix (`self.propagate`) and (2) the GRU cell (`self.gru`). We will put these inside the `forward()` function.\n",
        "\n",
        "We only use one layer for our `GatedSessionGraphConv` implementation for simplicity. Also, our sessions have average length < 5, so we do not need a large receptive field."
      ]
    },
    {
      "cell_type": "code",
      "execution_count": 35,
      "metadata": {
        "id": "7K3HWrcwqp0Z"
      },
      "outputs": [],
      "source": [
        "class GatedSessionGraphConv(pyg.nn.conv.MessagePassing):\n",
        "    def __init__(self, out_channels, aggr: str = 'add', **kwargs):\n",
        "        super().__init__(aggr=aggr, **kwargs)\n",
        "\n",
        "        self.out_channels = out_channels\n",
        "\n",
        "        self.gru = torch.nn.GRUCell(out_channels, out_channels, bias=False)\n",
        "\n",
        "    def forward(self, x, edge_index):\n",
        "        m = self.propagate(edge_index, x=x, size=None)\n",
        "        x = self.gru(m, x)\n",
        "        return x\n",
        "\n",
        "    def message(self, x_j):\n",
        "        return x_j\n",
        "\n",
        "    def message_and_aggregate(self, adj_t, x):\n",
        "        return matmul(adj_t, x, reduce=self.aggr)"
      ]
    },
    {
      "cell_type": "code",
      "execution_count": 36,
      "metadata": {
        "id": "TNsAHq8PCN3k"
      },
      "outputs": [],
      "source": [
        "class SRGNN(nn.Module):\n",
        "    def __init__(self, hidden_size, n_items):\n",
        "        super(SRGNN, self).__init__()\n",
        "        self.hidden_size = hidden_size\n",
        "        self.n_items = n_items\n",
        "\n",
        "        self.embedding = nn.Embedding(self.n_items, self.hidden_size)\n",
        "        self.gated = GatedSessionGraphConv(self.hidden_size)\n",
        "\n",
        "        self.q = nn.Linear(self.hidden_size, 1)\n",
        "        self.W_1 = nn.Linear(self.hidden_size, self.hidden_size, bias=False)\n",
        "        self.W_2 = nn.Linear(self.hidden_size, self.hidden_size)\n",
        "        self.W_3 = nn.Linear(2 * self.hidden_size, self.hidden_size, bias=False)\n",
        "\n",
        "    def reset_parameters(self):\n",
        "        stdv = 1.0 / math.sqrt(self.hidden_size)\n",
        "        for weight in self.parameters():\n",
        "            weight.data.uniform_(-stdv, stdv)\n",
        "\n",
        "    def forward(self, data):\n",
        "        x, edge_index, batch_map = data.x, data.edge_index, data.batch\n",
        "\n",
        "        # (0)\n",
        "        embedding = self.embedding(x).squeeze()\n",
        "\n",
        "        # (1)-(5)\n",
        "        v_i = self.gated(embedding, edge_index)\n",
        "\n",
        "        # Divide nodes by session\n",
        "        # For the detailed explanation of what is happening below, please refer\n",
        "        # to the Medium blog post.\n",
        "        sections = list(torch.bincount(batch_map).cpu())\n",
        "        v_i_split = torch.split(v_i, sections)\n",
        "\n",
        "        v_n, v_n_repeat = [], []\n",
        "        for session in v_i_split:\n",
        "            v_n.append(session[-1])\n",
        "            v_n_repeat.append(\n",
        "                session[-1].view(1, -1).repeat(session.shape[0], 1))\n",
        "        v_n, v_n_repeat = torch.stack(v_n), torch.cat(v_n_repeat, dim=0)\n",
        "\n",
        "        q1 = self.W_1(v_n_repeat)\n",
        "        q2 = self.W_2(v_i)\n",
        "\n",
        "        # (6)\n",
        "        alpha = self.q(F.sigmoid(q1 + q2))\n",
        "        s_g_split = torch.split(alpha * v_i, sections)\n",
        "\n",
        "        s_g = []\n",
        "        for session in s_g_split:\n",
        "            s_g_session = torch.sum(session, dim=0)\n",
        "            s_g.append(s_g_session)\n",
        "        s_g = torch.stack(s_g)\n",
        "\n",
        "        # (7)\n",
        "        s_l = v_n\n",
        "        s_h = self.W_3(torch.cat([s_l, s_g], dim=-1))\n",
        "\n",
        "        # (8)\n",
        "        z = torch.mm(self.embedding.weight, s_h.T).T\n",
        "        return z"
      ]
    },
    {
      "cell_type": "markdown",
      "metadata": {
        "id": "Qd0wGgxOAIoJ"
      },
      "source": [
        "# 🚂 Model Training\n",
        "\n",
        "We can now start model training."
      ]
    },
    {
      "cell_type": "code",
      "execution_count": 37,
      "metadata": {
        "id": "5gMZqEW81HYj"
      },
      "outputs": [],
      "source": [
        "# Define the hyperparameters.\n",
        "args = {\n",
        "    'batch_size': 100,\n",
        "    'hidden_dim': 32,\n",
        "    'epochs': 100,\n",
        "    'l2_penalty': 0.00001,\n",
        "    'weight_decay': 0.1,\n",
        "    'step': 30,\n",
        "    'lr': 0.001,\n",
        "    'num_items': 466868}\n",
        "\n",
        "class objectview(object):\n",
        "    def __init__(self, d): \n",
        "        self.__dict__ = d\n",
        "\n",
        "args = objectview(args)"
      ]
    },
    {
      "cell_type": "code",
      "execution_count": 38,
      "metadata": {
        "id": "8iVoTPoJAKkU"
      },
      "outputs": [],
      "source": [
        "def train(args):\n",
        "    # Prepare data pipeline\n",
        "    train_dataset = GraphDataset('./', 'train')\n",
        "    train_loader = pyg_data.DataLoader(train_dataset,\n",
        "                                       batch_size=args.batch_size,\n",
        "                                       shuffle=False,\n",
        "                                       drop_last=True)\n",
        "    val_dataset = GraphDataset('./', 'val')\n",
        "    val_loader = pyg_data.DataLoader(val_dataset,\n",
        "                                     batch_size=args.batch_size,\n",
        "                                     shuffle=False,\n",
        "                                     drop_last=True)\n",
        "\n",
        "    # Build model\n",
        "    model = SRGNN(args.hidden_dim, args.num_items).to('cuda')\n",
        "\n",
        "    # Get training components\n",
        "    optimizer = torch.optim.Adam(model.parameters(),\n",
        "                                 lr=args.lr,\n",
        "                                 weight_decay=args.l2_penalty)\n",
        "    scheduler = optim.lr_scheduler.StepLR(optimizer,\n",
        "                                          step_size=args.step,\n",
        "                                          gamma=args.weight_decay)\n",
        "    criterion = nn.CrossEntropyLoss()\n",
        "\n",
        "    # Train\n",
        "    losses = []\n",
        "    test_accs = []\n",
        "    top_k_accs = []\n",
        "\n",
        "    best_acc = 0\n",
        "    best_model = None\n",
        "\n",
        "    for epoch in range(args.epochs):\n",
        "        total_loss = 0\n",
        "        model.train()\n",
        "        for _, batch in enumerate(tqdm(train_loader)):\n",
        "            batch.to('cuda')\n",
        "            optimizer.zero_grad()\n",
        "\n",
        "            pred = model(batch)\n",
        "            label = batch.y\n",
        "            loss = criterion(pred, label)\n",
        "\n",
        "            loss.backward()\n",
        "            optimizer.step()\n",
        "            total_loss += loss.item() * batch.num_graphs\n",
        "\n",
        "        total_loss /= len(train_loader.dataset)\n",
        "        losses.append(total_loss)\n",
        "\n",
        "        scheduler.step()\n",
        "\n",
        "        if epoch % 1 == 0:\n",
        "          test_acc, top_k_acc = test(val_loader, model, is_validation=True)\n",
        "          print(test_acc)\n",
        "          test_accs.append(test_acc)\n",
        "          top_k_accs.append(top_k_acc)\n",
        "          if test_acc > best_acc:\n",
        "            best_acc = test_acc\n",
        "            best_model = copy.deepcopy(model)\n",
        "        else:\n",
        "          test_accs.append(test_accs[-1])\n",
        "  \n",
        "    return test_accs, top_k_accs, losses, best_model, best_acc, val_loader"
      ]
    },
    {
      "cell_type": "code",
      "execution_count": 39,
      "metadata": {
        "id": "UTiJJ1pm0ks9"
      },
      "outputs": [],
      "source": [
        "def test(loader, test_model, is_validation=False, save_model_preds=False):\n",
        "    test_model.eval()\n",
        "\n",
        "    # Define K for Hit@K metrics.\n",
        "    k = 20\n",
        "    correct = 0\n",
        "    top_k_correct = 0\n",
        "\n",
        "    for _, data in enumerate(tqdm(loader)):\n",
        "        data.to('cuda')\n",
        "        with torch.no_grad():\n",
        "            # max(dim=1) returns values, indices tuple; only need indices\n",
        "            score = test_model(data)\n",
        "            pred = score.max(dim=1)[1]\n",
        "            label = data.y\n",
        "\n",
        "        if save_model_preds:\n",
        "          data = {}\n",
        "          data['pred'] = pred.view(-1).cpu().detach().numpy()\n",
        "          data['label'] = label.view(-1).cpu().detach().numpy()\n",
        "\n",
        "          df = pd.DataFrame(data=data)\n",
        "          # Save locally as csv\n",
        "          df.to_csv('pred.csv', sep=',', index=False)\n",
        "            \n",
        "        correct += pred.eq(label).sum().item()\n",
        "\n",
        "        # We calculate Hit@K accuracy only at test time.\n",
        "        if not is_validation:\n",
        "            score = score.cpu().detach().numpy()\n",
        "            for row in range(pred.size(0)):\n",
        "                top_k_pred = np.argpartition(score[row], -k)[-k:]\n",
        "                if label[row].item() in top_k_pred:\n",
        "                    top_k_correct += 1\n",
        "    \n",
        "    if not is_validation:\n",
        "        return correct / len(loader), top_k_correct / len(loader)\n",
        "    else:\n",
        "        return correct / len(loader), 0"
      ]
    },
    {
      "cell_type": "code",
      "execution_count": null,
      "metadata": {
        "colab": {
          "base_uri": "https://localhost:8080/"
        },
        "id": "pdNUqKJl1r35",
        "outputId": "781c807e-4ae9-42f9-f21b-f542ce576d82"
      },
      "outputs": [
        {
          "metadata": {
            "tags": null
          },
          "name": "stderr",
          "output_type": "stream",
          "text": [
            "Processing...\n",
            "<ipython-input-34-b1a047942532>:30: UserWarning: Creating a tensor from a list of numpy.ndarrays is extremely slow. Please consider converting the list to a single numpy.ndarray with numpy.array() before converting to a tensor. (Triggered internally at ../torch/csrc/utils/tensor_new.cpp:230.)\n",
            "  edge_index = torch.tensor([senders, receivers], dtype=torch.long)\n",
            "Done!\n",
            "/usr/local/lib/python3.8/dist-packages/torch_geometric/deprecation.py:12: UserWarning: 'data.DataLoader' is deprecated, use 'loader.DataLoader' instead\n",
            "  warnings.warn(out)\n",
            "Processing...\n",
            "Done!\n",
            "  0%|          | 0/7819 [00:00<?, ?it/s]/usr/local/lib/python3.8/dist-packages/torch/nn/functional.py:1967: UserWarning: nn.functional.sigmoid is deprecated. Use torch.sigmoid instead.\n",
            "  warnings.warn(\"nn.functional.sigmoid is deprecated. Use torch.sigmoid instead.\")\n",
            "100%|██████████| 7819/7819 [07:32<00:00, 17.29it/s]\n",
            "100%|██████████| 913/913 [00:15<00:00, 58.99it/s]\n"
          ]
        },
        {
          "metadata": {
            "tags": null
          },
          "name": "stdout",
          "output_type": "stream",
          "text": [
            "12.812705366922234\n"
          ]
        },
        {
          "metadata": {
            "tags": null
          },
          "name": "stderr",
          "output_type": "stream",
          "text": [
            "100%|██████████| 7819/7819 [06:27<00:00, 20.18it/s]\n",
            "100%|██████████| 913/913 [00:10<00:00, 87.90it/s]\n"
          ]
        },
        {
          "metadata": {
            "tags": null
          },
          "name": "stdout",
          "output_type": "stream",
          "text": [
            "13.99014238773275\n"
          ]
        },
        {
          "metadata": {
            "tags": null
          },
          "name": "stderr",
          "output_type": "stream",
          "text": [
            "100%|██████████| 7819/7819 [06:32<00:00, 19.94it/s]\n",
            "100%|██████████| 913/913 [00:10<00:00, 85.79it/s]\n"
          ]
        },
        {
          "metadata": {
            "tags": null
          },
          "name": "stdout",
          "output_type": "stream",
          "text": [
            "15.462212486308871\n"
          ]
        },
        {
          "metadata": {
            "tags": null
          },
          "name": "stderr",
          "output_type": "stream",
          "text": [
            "100%|██████████| 7819/7819 [06:28<00:00, 20.13it/s]\n",
            "100%|██████████| 913/913 [00:11<00:00, 78.52it/s]\n"
          ]
        },
        {
          "metadata": {
            "tags": null
          },
          "name": "stdout",
          "output_type": "stream",
          "text": [
            "16.305585980284775\n"
          ]
        },
        {
          "metadata": {
            "tags": null
          },
          "name": "stderr",
          "output_type": "stream",
          "text": [
            "100%|██████████| 7819/7819 [06:28<00:00, 20.14it/s]\n",
            "100%|██████████| 913/913 [00:10<00:00, 87.82it/s]\n"
          ]
        },
        {
          "metadata": {
            "tags": null
          },
          "name": "stdout",
          "output_type": "stream",
          "text": [
            "16.806133625410734\n"
          ]
        },
        {
          "metadata": {
            "tags": null
          },
          "name": "stderr",
          "output_type": "stream",
          "text": [
            "100%|██████████| 7819/7819 [06:29<00:00, 20.07it/s]\n",
            "100%|██████████| 913/913 [00:10<00:00, 86.93it/s]\n"
          ]
        },
        {
          "metadata": {
            "tags": null
          },
          "name": "stdout",
          "output_type": "stream",
          "text": [
            "17.11500547645126\n"
          ]
        },
        {
          "metadata": {
            "tags": null
          },
          "name": "stderr",
          "output_type": "stream",
          "text": [
            "100%|██████████| 7819/7819 [06:32<00:00, 19.91it/s]\n",
            "100%|██████████| 913/913 [00:10<00:00, 85.63it/s]\n"
          ]
        },
        {
          "metadata": {
            "tags": null
          },
          "name": "stdout",
          "output_type": "stream",
          "text": [
            "17.304490690032857\n"
          ]
        },
        {
          "metadata": {
            "tags": null
          },
          "name": "stderr",
          "output_type": "stream",
          "text": [
            "100%|██████████| 7819/7819 [06:31<00:00, 19.99it/s]\n",
            "100%|██████████| 913/913 [00:10<00:00, 86.83it/s]\n"
          ]
        },
        {
          "metadata": {
            "tags": null
          },
          "name": "stdout",
          "output_type": "stream",
          "text": [
            "17.562979189485212\n"
          ]
        },
        {
          "metadata": {
            "tags": null
          },
          "name": "stderr",
          "output_type": "stream",
          "text": [
            "100%|██████████| 7819/7819 [06:31<00:00, 19.96it/s]\n",
            "100%|██████████| 913/913 [00:10<00:00, 86.56it/s]\n"
          ]
        },
        {
          "metadata": {
            "tags": null
          },
          "name": "stdout",
          "output_type": "stream",
          "text": [
            "17.710843373493976\n"
          ]
        },
        {
          "metadata": {
            "tags": null
          },
          "name": "stderr",
          "output_type": "stream",
          "text": [
            "100%|██████████| 7819/7819 [06:34<00:00, 19.82it/s]\n",
            "100%|██████████| 913/913 [00:10<00:00, 86.49it/s]\n"
          ]
        },
        {
          "metadata": {
            "tags": null
          },
          "name": "stdout",
          "output_type": "stream",
          "text": [
            "17.79408543263965\n"
          ]
        },
        {
          "metadata": {
            "tags": null
          },
          "name": "stderr",
          "output_type": "stream",
          "text": [
            "100%|██████████| 7819/7819 [06:31<00:00, 19.97it/s]\n",
            "100%|██████████| 913/913 [00:10<00:00, 87.50it/s]\n"
          ]
        },
        {
          "metadata": {
            "tags": null
          },
          "name": "stdout",
          "output_type": "stream",
          "text": [
            "17.92552026286966\n"
          ]
        },
        {
          "metadata": {
            "tags": null
          },
          "name": "stderr",
          "output_type": "stream",
          "text": [
            "100%|██████████| 7819/7819 [06:32<00:00, 19.94it/s]\n",
            "100%|██████████| 913/913 [00:10<00:00, 87.15it/s]\n"
          ]
        },
        {
          "metadata": {
            "tags": null
          },
          "name": "stdout",
          "output_type": "stream",
          "text": [
            "18.052573932092006\n"
          ]
        },
        {
          "metadata": {
            "tags": null
          },
          "name": "stderr",
          "output_type": "stream",
          "text": [
            "100%|██████████| 7819/7819 [06:29<00:00, 20.06it/s]\n",
            "100%|██████████| 913/913 [00:10<00:00, 88.42it/s]\n"
          ]
        },
        {
          "metadata": {
            "tags": null
          },
          "name": "stdout",
          "output_type": "stream",
          "text": [
            "18.146768893756846\n"
          ]
        },
        {
          "metadata": {
            "tags": null
          },
          "name": "stderr",
          "output_type": "stream",
          "text": [
            "100%|██████████| 7819/7819 [06:29<00:00, 20.07it/s]\n",
            "100%|██████████| 913/913 [00:10<00:00, 87.90it/s]\n"
          ]
        },
        {
          "metadata": {
            "tags": null
          },
          "name": "stdout",
          "output_type": "stream",
          "text": [
            "18.219058050383353\n"
          ]
        },
        {
          "metadata": {
            "tags": null
          },
          "name": "stderr",
          "output_type": "stream",
          "text": [
            "100%|██████████| 7819/7819 [06:28<00:00, 20.11it/s]\n",
            "100%|██████████| 913/913 [00:10<00:00, 89.80it/s]\n"
          ]
        },
        {
          "metadata": {
            "tags": null
          },
          "name": "stdout",
          "output_type": "stream",
          "text": [
            "18.31434830230011\n"
          ]
        },
        {
          "output_type": "stream",
          "name": "stderr",
          "text": [
            "100%|██████████| 7819/7819 [06:28<00:00, 20.14it/s]\n",
            "100%|██████████| 913/913 [00:10<00:00, 89.42it/s]\n"
          ]
        },
        {
          "output_type": "stream",
          "name": "stdout",
          "text": [
            "18.343921139101862\n"
          ]
        },
        {
          "output_type": "stream",
          "name": "stderr",
          "text": [
            "100%|██████████| 7819/7819 [06:31<00:00, 19.96it/s]\n",
            "100%|██████████| 913/913 [00:10<00:00, 88.35it/s]\n"
          ]
        },
        {
          "output_type": "stream",
          "name": "stdout",
          "text": [
            "18.384446878422782\n"
          ]
        },
        {
          "output_type": "stream",
          "name": "stderr",
          "text": [
            " 28%|██▊       | 2218/7819 [01:50<04:37, 20.19it/s]"
          ]
        }
      ],
      "source": [
        "test_accs, top_k_accs, losses, best_model, best_acc, test_loader = train(args) \n",
        "\n",
        "print(test_accs, top_k_accs)\n",
        "print(\"Maximum test set accuracy: {0}\".format(max(test_accs)))\n",
        "print(\"Minimum loss: {0}\".format(min(losses)))\n",
        "\n",
        "# plt.title(dataset.name)\n",
        "plt.plot(losses, label=\"training loss\" + \" - \")\n",
        "plt.plot(test_accs, label=\"test accuracy\" + \" - \")\n",
        "plt.legend()\n",
        "plt.show()"
      ]
    },
    {
      "cell_type": "markdown",
      "metadata": {
        "id": "bEg5LDYoAkun"
      },
      "source": [
        "# 🧪 Evaluation"
      ]
    },
    {
      "cell_type": "code",
      "source": [
        "# Save the best model\n",
        "torch.save(best_model.state_dict(), 'model')"
      ],
      "metadata": {
        "id": "9rTB4_lI1Ocg"
      },
      "execution_count": null,
      "outputs": []
    },
    {
      "cell_type": "code",
      "execution_count": null,
      "metadata": {
        "id": "ZzE_ft8UAmz0"
      },
      "outputs": [],
      "source": [
        "# Run test for our best model to save the predictions!\n",
        "test_dataset = GraphDataset('./', 'test')\n",
        "test_loader = pyg_data.DataLoader(test_dataset,\n",
        "                                  batch_size=args.batch_size,\n",
        "                                  shuffle=False,\n",
        "                                  drop_last=True)\n",
        "\n",
        "test(test_loader, best_model, is_validation=False, save_model_preds=True)"
      ]
    },
    {
      "cell_type": "code",
      "execution_count": null,
      "metadata": {
        "id": "pwth9Q4TJiNs"
      },
      "outputs": [],
      "source": []
    }
  ],
  "metadata": {
    "accelerator": "GPU",
    "colab": {
      "provenance": []
    },
    "kernelspec": {
      "display_name": "Python 3",
      "name": "python3"
    },
    "language_info": {
      "name": "python"
    },
    "gpuClass": "standard"
  },
  "nbformat": 4,
  "nbformat_minor": 0
}